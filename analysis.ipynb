{
 "cells": [
  {
   "cell_type": "code",
   "execution_count": 1,
   "id": "e99191df-2e13-4525-9544-dac9f055d855",
   "metadata": {},
   "outputs": [],
   "source": [
    "from clean import traces"
   ]
  },
  {
   "cell_type": "code",
   "execution_count": 2,
   "id": "c75a69ae-eb3d-49c8-beda-fa248e4f06bf",
   "metadata": {},
   "outputs": [],
   "source": [
    "from collections import defaultdict"
   ]
  },
  {
   "cell_type": "code",
   "execution_count": 3,
   "id": "68963cb5-f0da-4e1e-8421-681aad3f2ffb",
   "metadata": {},
   "outputs": [],
   "source": [
    "from collections import Counter"
   ]
  },
  {
   "cell_type": "code",
   "execution_count": 4,
   "id": "39db9a6b-80d1-4c09-8fa6-f4b3f828dc14",
   "metadata": {},
   "outputs": [],
   "source": [
    "import numpy as np"
   ]
  },
  {
   "cell_type": "code",
   "execution_count": 5,
   "id": "06e0cc66-63e9-415e-9fe9-13e35eadd236",
   "metadata": {},
   "outputs": [],
   "source": [
    "ignore_header = True"
   ]
  },
  {
   "cell_type": "code",
   "execution_count": 10,
   "id": "bfb561d3-27e3-4b64-bed1-eff9dd4f067f",
   "metadata": {},
   "outputs": [],
   "source": [
    "file = \"traces/metaCDN/meta_rnha.oracleGeneral.txt\""
   ]
  },
  {
   "cell_type": "code",
   "execution_count": 11,
   "id": "877eca98-9dd3-42aa-8483-053dc0303067",
   "metadata": {},
   "outputs": [],
   "source": [
    "trace = \"metaCDN\""
   ]
  },
  {
   "cell_type": "code",
   "execution_count": 12,
   "id": "f45216bf-75ce-4eb4-a0f5-a0a0e6687abb",
   "metadata": {},
   "outputs": [],
   "source": [
    "cleaner = traces[trace](None, None, None)"
   ]
  },
  {
   "cell_type": "code",
   "execution_count": 13,
   "id": "36090c40-958e-417c-9e04-33f3b9d8d45a",
   "metadata": {},
   "outputs": [],
   "source": [
    "sizes = defaultdict(set)"
   ]
  },
  {
   "cell_type": "code",
   "execution_count": 14,
   "id": "9568f0f4-7c9d-4f83-9364-06f5dcb31743",
   "metadata": {
    "editable": true,
    "slideshow": {
     "slide_type": ""
    },
    "tags": []
   },
   "outputs": [],
   "source": [
    "with open(file) as f:\n",
    "    if ignore_header:\n",
    "        f.readline()\n",
    "    for line in f:\n",
    "        l = cleaner.process_line(line.strip())\n",
    "        if l is None:\n",
    "            continue\n",
    "        time_stamp, id, size = l\n",
    "        sizes[id].add(size)"
   ]
  },
  {
   "cell_type": "code",
   "execution_count": 15,
   "id": "39bb4f24-20c2-4c5a-99a5-e01269e1c52c",
   "metadata": {},
   "outputs": [],
   "source": [
    "sorted_sizes = sorted(sizes.items(), key=lambda k_v: len(k_v[1]), reverse=True)"
   ]
  },
  {
   "cell_type": "code",
   "execution_count": 16,
   "id": "b6214897-19f8-4cfe-9d05-0d97f5523997",
   "metadata": {},
   "outputs": [],
   "source": [
    "sizes_sorted = defaultdict(set)"
   ]
  },
  {
   "cell_type": "code",
   "execution_count": 17,
   "id": "75fbade9-7170-42ef-bbaa-03e3b81527aa",
   "metadata": {},
   "outputs": [],
   "source": [
    "for k, v in sorted_sizes:\n",
    "    sizes_sorted[k] = v"
   ]
  },
  {
   "cell_type": "code",
   "execution_count": 18,
   "id": "5f2ef6db-0b33-4c89-a2a6-25ef760feabc",
   "metadata": {},
   "outputs": [],
   "source": [
    "all_sizes = sizes_sorted.values()\n",
    "all_sizes = [v for s in all_sizes for v in s]"
   ]
  },
  {
   "cell_type": "code",
   "execution_count": 19,
   "id": "959869c2-572b-43dd-837f-816af9b09c6a",
   "metadata": {},
   "outputs": [
    {
     "data": {
      "text/plain": [
       "4294967295"
      ]
     },
     "execution_count": 19,
     "metadata": {},
     "output_type": "execute_result"
    }
   ],
   "source": [
    "max(all_sizes)"
   ]
  },
  {
   "cell_type": "code",
   "execution_count": 20,
   "id": "6a687967-dd24-4455-bdbf-cb878d71f735",
   "metadata": {},
   "outputs": [
    {
     "data": {
      "text/plain": [
       "1"
      ]
     },
     "execution_count": 20,
     "metadata": {},
     "output_type": "execute_result"
    }
   ],
   "source": [
    "min(all_sizes)"
   ]
  },
  {
   "cell_type": "code",
   "execution_count": 21,
   "id": "a14fe039-d02e-4ec9-a03d-59acfffa93d5",
   "metadata": {},
   "outputs": [],
   "source": [
    "all_sizes_np = np.array(all_sizes)"
   ]
  },
  {
   "cell_type": "code",
   "execution_count": 43,
   "id": "e54226f9-993a-4ef3-93e8-fef92c5e3858",
   "metadata": {},
   "outputs": [
    {
     "name": "stdout",
     "output_type": "stream",
     "text": [
      "0%: 1.0\n",
      "1%: 818.0\n",
      "2%: 1102.0\n",
      "3%: 1262.0\n",
      "4%: 1433.0\n",
      "5%: 1636.0\n",
      "6%: 1882.0\n",
      "7%: 2164.0\n",
      "8%: 2496.0\n",
      "9%: 2833.0\n",
      "10%: 3188.0\n",
      "11%: 3583.0\n",
      "12%: 4052.0\n",
      "13%: 4573.0\n",
      "14%: 5112.0\n",
      "15%: 5648.0\n",
      "16%: 6182.0\n",
      "17%: 6722.0\n",
      "18%: 7279.0\n",
      "19%: 7858.0\n",
      "20%: 8312.0\n",
      "21%: 8716.0\n",
      "22%: 9271.0\n",
      "23%: 9882.0\n",
      "24%: 10463.0\n",
      "25%: 10841.0\n",
      "26%: 11183.0\n",
      "27%: 11551.0\n",
      "28%: 11960.0\n",
      "29%: 12401.0\n",
      "30%: 12902.0\n",
      "31%: 13507.0\n",
      "32%: 14244.0\n",
      "33%: 15035.0\n",
      "34%: 15882.0\n",
      "35%: 16559.0\n",
      "36%: 17145.0\n",
      "37%: 17875.0\n",
      "38%: 18585.0\n",
      "39%: 19482.0\n",
      "40%: 20461.0\n",
      "41%: 21480.0\n",
      "42%: 22544.0\n",
      "43%: 23645.0\n",
      "44%: 24724.0\n",
      "45%: 25888.0\n",
      "46%: 27102.0\n",
      "47%: 28368.0\n",
      "48%: 29680.0\n",
      "49%: 31034.0\n",
      "50%: 32427.0\n",
      "51%: 33698.0\n",
      "52%: 35240.0\n",
      "53%: 36859.0\n",
      "54%: 38560.0\n",
      "55%: 40355.0\n",
      "56%: 42244.0\n",
      "57%: 44241.0\n",
      "58%: 46378.0\n",
      "59%: 48682.0\n",
      "60%: 51108.0\n",
      "61%: 53737.0\n",
      "62%: 56525.0\n",
      "63%: 59461.0\n",
      "64%: 62464.0\n",
      "65%: 65532.0\n",
      "66%: 68936.0\n",
      "67%: 72764.0\n",
      "68%: 77037.0\n",
      "69%: 81772.0\n",
      "70%: 86801.0\n",
      "71%: 91854.0\n",
      "72%: 97138.0\n",
      "73%: 103301.0\n",
      "74%: 110165.54000000004\n",
      "75%: 117373.0\n",
      "76%: 124662.0\n",
      "77%: 131429.66999999993\n",
      "78%: 139012.0\n",
      "79%: 147712.0\n",
      "80%: 155596.0\n",
      "81%: 164930.0\n",
      "82%: 177098.21999999974\n",
      "83%: 192368.9299999997\n",
      "84%: 207073.0\n",
      "85%: 227146.0\n",
      "86%: 251162.0\n",
      "87%: 276900.0\n",
      "88%: 305914.48000000045\n",
      "89%: 331872.1900000004\n",
      "90%: 375510.9000000004\n",
      "91%: 430457.61000000034\n",
      "92%: 503744.3200000003\n",
      "93%: 621010.120000001\n",
      "94%: 820205.9599999972\n",
      "95%: 1018851.7000000011\n",
      "96%: 1582949.6000000015\n",
      "97%: 2546354.830000001\n",
      "98%: 4858972.30000001\n",
      "99%: 19573454.670000065\n",
      "100%: 4294967295.0\n"
     ]
    }
   ],
   "source": [
    "for i in range(101):\n",
    "    print(f\"{i}%: {np.percentile(all_sizes_np, i)}\")"
   ]
  },
  {
   "cell_type": "code",
   "execution_count": 22,
   "id": "7303fda7-51c6-40b1-bb39-cfdea6695f7c",
   "metadata": {},
   "outputs": [],
   "source": [
    "objects_times = Counter()"
   ]
  },
  {
   "cell_type": "code",
   "execution_count": 23,
   "id": "3d180ff2-d00b-4123-bca3-de61f8c3648c",
   "metadata": {
    "editable": true,
    "slideshow": {
     "slide_type": ""
    },
    "tags": []
   },
   "outputs": [],
   "source": [
    "with open(file) as f:\n",
    "    if ignore_header:\n",
    "        f.readline()\n",
    "    for line in f:\n",
    "        l = cleaner.process_line(line.strip())\n",
    "        if l is None:\n",
    "            continue\n",
    "        time_stamp, id, size = l\n",
    "        objects_times[id] += 1"
   ]
  },
  {
   "cell_type": "code",
   "execution_count": 24,
   "id": "1dcd7568-b420-41b9-9f9e-58a5bccaaeac",
   "metadata": {},
   "outputs": [],
   "source": [
    "object_id = \"\"\n",
    "object_size = 0"
   ]
  },
  {
   "cell_type": "code",
   "execution_count": 25,
   "id": "583ee95e-43f3-4808-8145-269867f84015",
   "metadata": {},
   "outputs": [],
   "source": [
    "for k, v in sizes.items():\n",
    "    max_size = max(v)\n",
    "    if max_size > object_size:\n",
    "        object_size = max_size\n",
    "        object_id = k\n",
    "times_max_size_object_found = objects_times[object_id]"
   ]
  },
  {
   "cell_type": "code",
   "execution_count": 27,
   "id": "0471c6bb-6010-4720-a38b-934d87a3fba8",
   "metadata": {},
   "outputs": [
    {
     "name": "stdout",
     "output_type": "stream",
     "text": [
      "5 2586379786683810340 4294967295\n"
     ]
    }
   ],
   "source": [
    "print(times_max_size_object_found, object_id, object_size)"
   ]
  },
  {
   "cell_type": "code",
   "execution_count": 29,
   "id": "99c44d9d-7e59-4ac4-aa32-27f73c96bd08",
   "metadata": {},
   "outputs": [],
   "source": [
    "clean_trace_file = \"traces/metaCDN/meta_rnha.oracleGeneral_10000000_clean.csv\""
   ]
  },
  {
   "cell_type": "code",
   "execution_count": 36,
   "id": "29dec3d3-699a-48bc-a0d7-ef9093b9c61a",
   "metadata": {},
   "outputs": [],
   "source": [
    "sizes = defaultdict(set)"
   ]
  },
  {
   "cell_type": "code",
   "execution_count": 37,
   "id": "0a430961-3673-4a22-8df5-e90afb57c53b",
   "metadata": {
    "editable": true,
    "slideshow": {
     "slide_type": ""
    },
    "tags": []
   },
   "outputs": [],
   "source": [
    "with open(clean_trace_file) as f:\n",
    "    f.readline()\n",
    "    for line in f:\n",
    "        time_stamp, object, size = line.strip().split(\", \")\n",
    "        sizes[object].add(int(size))"
   ]
  },
  {
   "cell_type": "code",
   "execution_count": 38,
   "id": "4797e8fe-4117-4870-94f7-7425e92752cf",
   "metadata": {},
   "outputs": [],
   "source": [
    "objects_times = Counter()"
   ]
  },
  {
   "cell_type": "code",
   "execution_count": 39,
   "id": "2b72fa66-b293-4a28-bb3f-87d39e86f57f",
   "metadata": {},
   "outputs": [],
   "source": [
    "with open(clean_trace_file) as f:\n",
    "    f.readline()\n",
    "    for line in f:\n",
    "        time_stamp, object, size = line.strip().split(\", \")\n",
    "        objects_times[object] += 1"
   ]
  },
  {
   "cell_type": "code",
   "execution_count": 40,
   "id": "e131b976-bdc8-4e26-8355-cadc3fdbae4e",
   "metadata": {},
   "outputs": [],
   "source": [
    "object_id = \"\"\n",
    "object_size = 0"
   ]
  },
  {
   "cell_type": "code",
   "execution_count": 41,
   "id": "cbf30652-3b12-4107-ae72-74c963f03cec",
   "metadata": {},
   "outputs": [],
   "source": [
    "for k, v in sizes.items():\n",
    "    max_size = max(v)\n",
    "    if max_size > object_size:\n",
    "        object_size = max_size\n",
    "        object_id = k\n",
    "times_max_size_object_found = objects_times[object_id]"
   ]
  },
  {
   "cell_type": "code",
   "execution_count": 42,
   "id": "4a8f1f23-2acc-4a9d-9582-6a86466cf8bb",
   "metadata": {},
   "outputs": [
    {
     "name": "stdout",
     "output_type": "stream",
     "text": [
      "1 3711906141868710924 4294967295\n"
     ]
    }
   ],
   "source": [
    "print(times_max_size_object_found, object_id, object_size)"
   ]
  },
  {
   "cell_type": "code",
   "execution_count": 43,
   "id": "2c11ca20-bea6-4b67-ae8d-17e747f288d8",
   "metadata": {},
   "outputs": [],
   "source": [
    "sorted_sizes = sorted(sizes.items(), key=lambda k_v: len(k_v[1]), reverse=True)"
   ]
  },
  {
   "cell_type": "code",
   "execution_count": 44,
   "id": "59b0d290-155e-4bf9-945b-6436f1c6f8d0",
   "metadata": {},
   "outputs": [],
   "source": [
    "sizes_sorted = defaultdict(set)"
   ]
  },
  {
   "cell_type": "code",
   "execution_count": 45,
   "id": "e02914e7-a837-4102-81a6-17a27d6f4924",
   "metadata": {},
   "outputs": [],
   "source": [
    "for k, v in sorted_sizes:\n",
    "    sizes_sorted[k] = v"
   ]
  },
  {
   "cell_type": "code",
   "execution_count": 46,
   "id": "84630bdd-1c95-4db8-adbc-b3acbe4595fa",
   "metadata": {},
   "outputs": [],
   "source": [
    "all_sizes = sizes_sorted.values()\n",
    "all_sizes = [v for s in all_sizes for v in s]"
   ]
  },
  {
   "cell_type": "code",
   "execution_count": 47,
   "id": "99089017-62d0-4275-a153-bf79c7f4e3ad",
   "metadata": {},
   "outputs": [
    {
     "data": {
      "text/plain": [
       "4294967295"
      ]
     },
     "execution_count": 47,
     "metadata": {},
     "output_type": "execute_result"
    }
   ],
   "source": [
    "max(all_sizes)"
   ]
  },
  {
   "cell_type": "code",
   "execution_count": 48,
   "id": "f1a1a27a-762b-4673-9c2f-a7eeddf2c86a",
   "metadata": {},
   "outputs": [
    {
     "data": {
      "text/plain": [
       "1"
      ]
     },
     "execution_count": 48,
     "metadata": {},
     "output_type": "execute_result"
    }
   ],
   "source": [
    "min(all_sizes)"
   ]
  },
  {
   "cell_type": "code",
   "execution_count": 49,
   "id": "5987c306-73ac-4d23-85dc-4190a4b8a359",
   "metadata": {},
   "outputs": [],
   "source": [
    "all_sizes_np = np.array(all_sizes)"
   ]
  },
  {
   "cell_type": "code",
   "execution_count": 50,
   "id": "4b631955-fa3f-4b0e-8844-0b24995b82aa",
   "metadata": {},
   "outputs": [
    {
     "name": "stdout",
     "output_type": "stream",
     "text": [
      "0%: 1.0\n",
      "1%: 814.0\n",
      "2%: 1105.0\n",
      "3%: 1296.0\n",
      "4%: 1485.0\n",
      "5%: 1720.0\n",
      "6%: 1974.0\n",
      "7%: 2276.0\n",
      "8%: 2611.0\n",
      "9%: 2949.0\n",
      "10%: 3310.0\n",
      "11%: 3724.0\n",
      "12%: 4212.0\n",
      "13%: 4742.0\n",
      "14%: 5276.0\n",
      "15%: 5806.0\n",
      "16%: 6340.0\n",
      "17%: 6883.0\n",
      "18%: 7444.0\n",
      "19%: 8028.0\n",
      "20%: 8474.0\n",
      "21%: 8927.0\n",
      "22%: 9532.0\n",
      "23%: 10151.0\n",
      "24%: 10625.0\n",
      "25%: 10996.0\n",
      "26%: 11316.0\n",
      "27%: 11706.0\n",
      "28%: 12120.0\n",
      "29%: 12571.0\n",
      "30%: 13098.0\n",
      "31%: 13743.0\n",
      "32%: 14492.0\n",
      "33%: 15317.0\n",
      "34%: 16155.0\n",
      "35%: 16672.0\n",
      "36%: 17356.0\n",
      "37%: 18052.0\n",
      "38%: 18804.0\n",
      "39%: 19735.0\n",
      "40%: 20720.0\n",
      "41%: 21749.0\n",
      "42%: 22826.0\n",
      "43%: 23932.0\n",
      "44%: 24996.64000000013\n",
      "45%: 26180.0\n",
      "46%: 27397.0\n",
      "47%: 28665.0\n",
      "48%: 29984.0\n",
      "49%: 31346.0\n",
      "50%: 32658.0\n",
      "51%: 34009.0\n",
      "52%: 35569.0\n",
      "53%: 37194.0\n",
      "54%: 38917.0\n",
      "55%: 40705.0\n",
      "56%: 42612.0\n",
      "57%: 44612.0\n",
      "58%: 46776.0\n",
      "59%: 49101.0\n",
      "60%: 51541.0\n",
      "61%: 54193.0\n",
      "62%: 57022.0\n",
      "63%: 59991.0\n",
      "64%: 63044.0\n",
      "65%: 66256.0\n",
      "66%: 69865.0\n",
      "67%: 73871.0\n",
      "68%: 78296.0\n",
      "69%: 83086.0\n",
      "70%: 88162.19999999972\n",
      "71%: 93236.0\n",
      "72%: 98596.0\n",
      "73%: 104821.0\n",
      "74%: 111759.0\n",
      "75%: 118972.0\n",
      "76%: 126058.0\n",
      "77%: 132826.0\n",
      "78%: 140510.0\n",
      "79%: 149143.0\n",
      "80%: 156793.0\n",
      "81%: 166225.0\n",
      "82%: 178675.91999999993\n",
      "83%: 193806.0\n",
      "84%: 208217.04000000004\n",
      "85%: 228274.6000000001\n",
      "86%: 251762.16000000015\n",
      "87%: 276558.4399999995\n",
      "88%: 304346.28000000026\n",
      "89%: 329045.0\n",
      "90%: 371370.4000000004\n",
      "91%: 421057.8799999999\n",
      "92%: 495636.5200000005\n",
      "93%: 593950.120000001\n",
      "94%: 773050.0\n",
      "95%: 1000000.0\n",
      "96%: 1415270.7599999998\n",
      "97%: 2228275.8800000027\n",
      "98%: 3920997.9999999916\n",
      "99%: 10485760.0\n",
      "100%: 4294967295.0\n"
     ]
    }
   ],
   "source": [
    "for i in range(101):\n",
    "    print(f\"{i}%: {np.percentile(all_sizes_np, i)}\")"
   ]
  },
  {
   "cell_type": "code",
   "execution_count": 53,
   "id": "fa05d1de-c422-4d07-af0f-80abafcdf00a",
   "metadata": {},
   "outputs": [],
   "source": [
    "clean_trace_size = [s.pop() for s in sizes.values()]\n",
    "clean_trace_size = sum(clean_trace_size)"
   ]
  },
  {
   "cell_type": "code",
   "execution_count": 55,
   "id": "d2ec9673-e586-4eb5-a553-56e4d7f0f1b8",
   "metadata": {},
   "outputs": [
    {
     "name": "stdout",
     "output_type": "stream",
     "text": [
      "27624249.112918854 MiB\n",
      "26976.805774334818 GiB\n"
     ]
    }
   ],
   "source": [
    "print(f\"{clean_trace_size / (1024**2)} MiB\")\n",
    "print(f\"{clean_trace_size / (1024**3)} GiB\")"
   ]
  }
 ],
 "metadata": {
  "kernelspec": {
   "display_name": "Python 3 (ipykernel)",
   "language": "python",
   "name": "python3"
  },
  "language_info": {
   "codemirror_mode": {
    "name": "ipython",
    "version": 3
   },
   "file_extension": ".py",
   "mimetype": "text/x-python",
   "name": "python",
   "nbconvert_exporter": "python",
   "pygments_lexer": "ipython3",
   "version": "3.13.0"
  }
 },
 "nbformat": 4,
 "nbformat_minor": 5
}
